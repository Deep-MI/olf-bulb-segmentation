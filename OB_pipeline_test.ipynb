{
  "nbformat": 4,
  "nbformat_minor": 0,
  "metadata": {
    "colab": {
      "name": "OB_pipeline_test.ipynb",
      "provenance": [],
      "authorship_tag": "ABX9TyOnVBrqxN08+aHmrD6ARHuM",
      "include_colab_link": true
    },
    "kernelspec": {
      "name": "python3",
      "display_name": "Python 3"
    },
    "language_info": {
      "name": "python"
    },
    "accelerator": "GPU"
  },
  "cells": [
    {
      "cell_type": "markdown",
      "metadata": {
        "id": "view-in-github",
        "colab_type": "text"
      },
      "source": [
        "<a href=\"https://colab.research.google.com/github/Deep-MI/olf-bulb-segmentation/blob/main/OB_pipeline_test.ipynb\" target=\"_parent\"><img src=\"https://colab.research.google.com/assets/colab-badge.svg\" alt=\"Open In Colab\"/></a>"
      ]
    },
    {
      "cell_type": "markdown",
      "metadata": {
        "id": "Nl8sJdId4KTN"
      },
      "source": [
        "### **Quick and Easy - Olfactory Bulb (OB) Segmentation**\n",
        "\n",
        "Google Colab allows to a create virtual machine in your web browser in which you can run the OB pipeline. For more information on how to use colab and neuroimage tools such as *FastSuferCNN* for whole brain segmentation check our Tutorial page :  https://github.com/Deep-MI/FastSurfer/tree/master/Tutorial\n",
        "\n"
      ]
    },
    {
      "cell_type": "markdown",
      "metadata": {
        "id": "ozJDiXN19qD2"
      },
      "source": [
        "### Enabling the GPU\n",
        "\n",
        "First, you'll need to enable GPUs for the notebook:\n",
        "\n",
        "- Navigate to Edit→Notebook Settings\n",
        "- select GPU from the Hardware Accelerator drop-down"
      ]
    },
    {
      "cell_type": "markdown",
      "metadata": {
        "id": "R5xLARuq4old"
      },
      "source": [
        "### 1 - Upload Image \n",
        " - You can use your own T2 or download a T2 sample image from  https://nextcloud.dzne.de/index.php/s/QaYpocJn9HFN7jp \n"
      ]
    },
    {
      "cell_type": "code",
      "metadata": {
        "id": "GbtDqk4k49_5",
        "colab": {
          "resources": {
            "http://localhost:8080/nbextensions/google.colab/files.js": {
              "data": "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",
              "ok": true,
              "headers": [
                [
                  "content-type",
                  "application/javascript"
                ]
              ],
              "status": 200,
              "status_text": "OK"
            }
          },
          "base_uri": "https://localhost:8080/",
          "height": 75
        },
        "outputId": "48c225e8-0fe3-4c16-a888-d7b6b8639338"
      },
      "source": [
        "#@title Click the run button to upload your T2-weighted MRI image\n",
        "from google.colab import files\n",
        "! cd \"/content\"\n",
        "\n",
        "# initiate the upload (toggles selection window when executed)    \n",
        "uploaded = files.upload()\n",
        "\n",
        "#store the image location as variable for future used\n",
        "img = \"/content/\" + list(uploaded.keys())[0]"
      ],
      "execution_count": null,
      "outputs": [
        {
          "output_type": "display_data",
          "data": {
            "text/html": [
              "\n",
              "     <input type=\"file\" id=\"files-4cf38d77-ef03-4f89-b8f1-954993301afe\" name=\"files[]\" multiple disabled\n",
              "        style=\"border:none\" />\n",
              "     <output id=\"result-4cf38d77-ef03-4f89-b8f1-954993301afe\">\n",
              "      Upload widget is only available when the cell has been executed in the\n",
              "      current browser session. Please rerun this cell to enable.\n",
              "      </output>\n",
              "      <script src=\"/nbextensions/google.colab/files.js\"></script> "
            ],
            "text/plain": [
              "<IPython.core.display.HTML object>"
            ]
          },
          "metadata": {}
        },
        {
          "output_type": "stream",
          "text": [
            "Saving T2_sample.nii.gz to T2_sample.nii.gz\n"
          ],
          "name": "stdout"
        }
      ]
    },
    {
      "cell_type": "code",
      "metadata": {
        "id": "lwZYnLkt6H_R",
        "colab": {
          "base_uri": "https://localhost:8080/"
        },
        "outputId": "56295caf-27bd-41c4-980b-1e9c95edb1fb"
      },
      "source": [
        "# Check present files in colab base directory with ls command\n",
        "!ls -l \"/content\""
      ],
      "execution_count": null,
      "outputs": [
        {
          "output_type": "stream",
          "text": [
            "total 18376\n",
            "drwxr-xr-x 1 root root     4096 Aug 13 13:35 sample_data\n",
            "-rw-r--r-- 1 root root 18806144 Aug 25 14:31 T2_sample.nii.gz\n"
          ],
          "name": "stdout"
        }
      ]
    },
    {
      "cell_type": "markdown",
      "metadata": {
        "id": "pUXynDuLAyJA"
      },
      "source": [
        "Note all data upload to colab,  will be automatically deleted once the session ends and is NOT recoverable!. Make sure to save  "
      ]
    },
    {
      "cell_type": "markdown",
      "metadata": {
        "id": "wADOXFOuJf5V"
      },
      "source": [
        "## 2- Clone Repository"
      ]
    },
    {
      "cell_type": "code",
      "metadata": {
        "id": "INHOX5W3Jmg4",
        "colab": {
          "base_uri": "https://localhost:8080/"
        },
        "outputId": "f8e6d95a-a01a-4c57-8129-385d1454e431"
      },
      "source": [
        "#@title Click to clone OB repository\n",
        "# import libraries\n",
        "import os\n",
        "import sys\n",
        "from os.path import exists, join, basename, splitext\n",
        "\n",
        "#clone repository\n",
        "git_repo_url = 'https://github.com/Deep-MI/olf-bulb-segmentation.git'\n",
        "project_name = splitext(basename(git_repo_url))[0]\n",
        "if not exists(project_name):\n",
        "  # clone and install dependencies\n",
        "  !git clone -q $git_repo_url\n",
        "  sys.path.append(project_name)\n",
        "\n",
        "# Install missign libraries in Colab\n",
        "! pip install pyyaml==5.4.1 nilearn==0.8.0\n",
        "\n",
        "# Go to the pipeline directory\n",
        "%cd /content/olf-bulb-segmentation/"
      ],
      "execution_count": null,
      "outputs": [
        {
          "output_type": "stream",
          "text": [
            "Collecting pyyaml==5.4.1\n",
            "  Downloading PyYAML-5.4.1-cp37-cp37m-manylinux1_x86_64.whl (636 kB)\n",
            "\u001b[?25l\r\u001b[K     |▌                               | 10 kB 26.4 MB/s eta 0:00:01\r\u001b[K     |█                               | 20 kB 30.1 MB/s eta 0:00:01\r\u001b[K     |█▌                              | 30 kB 26.3 MB/s eta 0:00:01\r\u001b[K     |██                              | 40 kB 20.2 MB/s eta 0:00:01\r\u001b[K     |██▋                             | 51 kB 14.5 MB/s eta 0:00:01\r\u001b[K     |███                             | 61 kB 10.8 MB/s eta 0:00:01\r\u001b[K     |███▋                            | 71 kB 11.8 MB/s eta 0:00:01\r\u001b[K     |████▏                           | 81 kB 11.5 MB/s eta 0:00:01\r\u001b[K     |████▋                           | 92 kB 11.4 MB/s eta 0:00:01\r\u001b[K     |█████▏                          | 102 kB 12.4 MB/s eta 0:00:01\r\u001b[K     |█████▋                          | 112 kB 12.4 MB/s eta 0:00:01\r\u001b[K     |██████▏                         | 122 kB 12.4 MB/s eta 0:00:01\r\u001b[K     |██████▊                         | 133 kB 12.4 MB/s eta 0:00:01\r\u001b[K     |███████▏                        | 143 kB 12.4 MB/s eta 0:00:01\r\u001b[K     |███████▊                        | 153 kB 12.4 MB/s eta 0:00:01\r\u001b[K     |████████▎                       | 163 kB 12.4 MB/s eta 0:00:01\r\u001b[K     |████████▊                       | 174 kB 12.4 MB/s eta 0:00:01\r\u001b[K     |█████████▎                      | 184 kB 12.4 MB/s eta 0:00:01\r\u001b[K     |█████████▉                      | 194 kB 12.4 MB/s eta 0:00:01\r\u001b[K     |██████████▎                     | 204 kB 12.4 MB/s eta 0:00:01\r\u001b[K     |██████████▉                     | 215 kB 12.4 MB/s eta 0:00:01\r\u001b[K     |███████████▎                    | 225 kB 12.4 MB/s eta 0:00:01\r\u001b[K     |███████████▉                    | 235 kB 12.4 MB/s eta 0:00:01\r\u001b[K     |████████████▍                   | 245 kB 12.4 MB/s eta 0:00:01\r\u001b[K     |████████████▉                   | 256 kB 12.4 MB/s eta 0:00:01\r\u001b[K     |█████████████▍                  | 266 kB 12.4 MB/s eta 0:00:01\r\u001b[K     |██████████████                  | 276 kB 12.4 MB/s eta 0:00:01\r\u001b[K     |██████████████▍                 | 286 kB 12.4 MB/s eta 0:00:01\r\u001b[K     |███████████████                 | 296 kB 12.4 MB/s eta 0:00:01\r\u001b[K     |███████████████▍                | 307 kB 12.4 MB/s eta 0:00:01\r\u001b[K     |████████████████                | 317 kB 12.4 MB/s eta 0:00:01\r\u001b[K     |████████████████▌               | 327 kB 12.4 MB/s eta 0:00:01\r\u001b[K     |█████████████████               | 337 kB 12.4 MB/s eta 0:00:01\r\u001b[K     |█████████████████▌              | 348 kB 12.4 MB/s eta 0:00:01\r\u001b[K     |██████████████████              | 358 kB 12.4 MB/s eta 0:00:01\r\u001b[K     |██████████████████▌             | 368 kB 12.4 MB/s eta 0:00:01\r\u001b[K     |███████████████████             | 378 kB 12.4 MB/s eta 0:00:01\r\u001b[K     |███████████████████▋            | 389 kB 12.4 MB/s eta 0:00:01\r\u001b[K     |████████████████████            | 399 kB 12.4 MB/s eta 0:00:01\r\u001b[K     |████████████████████▋           | 409 kB 12.4 MB/s eta 0:00:01\r\u001b[K     |█████████████████████           | 419 kB 12.4 MB/s eta 0:00:01\r\u001b[K     |█████████████████████▋          | 430 kB 12.4 MB/s eta 0:00:01\r\u001b[K     |██████████████████████▏         | 440 kB 12.4 MB/s eta 0:00:01\r\u001b[K     |██████████████████████▋         | 450 kB 12.4 MB/s eta 0:00:01\r\u001b[K     |███████████████████████▏        | 460 kB 12.4 MB/s eta 0:00:01\r\u001b[K     |███████████████████████▊        | 471 kB 12.4 MB/s eta 0:00:01\r\u001b[K     |████████████████████████▏       | 481 kB 12.4 MB/s eta 0:00:01\r\u001b[K     |████████████████████████▊       | 491 kB 12.4 MB/s eta 0:00:01\r\u001b[K     |█████████████████████████▏      | 501 kB 12.4 MB/s eta 0:00:01\r\u001b[K     |█████████████████████████▊      | 512 kB 12.4 MB/s eta 0:00:01\r\u001b[K     |██████████████████████████▎     | 522 kB 12.4 MB/s eta 0:00:01\r\u001b[K     |██████████████████████████▊     | 532 kB 12.4 MB/s eta 0:00:01\r\u001b[K     |███████████████████████████▎    | 542 kB 12.4 MB/s eta 0:00:01\r\u001b[K     |███████████████████████████▉    | 552 kB 12.4 MB/s eta 0:00:01\r\u001b[K     |████████████████████████████▎   | 563 kB 12.4 MB/s eta 0:00:01\r\u001b[K     |████████████████████████████▉   | 573 kB 12.4 MB/s eta 0:00:01\r\u001b[K     |█████████████████████████████▍  | 583 kB 12.4 MB/s eta 0:00:01\r\u001b[K     |█████████████████████████████▉  | 593 kB 12.4 MB/s eta 0:00:01\r\u001b[K     |██████████████████████████████▍ | 604 kB 12.4 MB/s eta 0:00:01\r\u001b[K     |██████████████████████████████▉ | 614 kB 12.4 MB/s eta 0:00:01\r\u001b[K     |███████████████████████████████▍| 624 kB 12.4 MB/s eta 0:00:01\r\u001b[K     |████████████████████████████████| 634 kB 12.4 MB/s eta 0:00:01\r\u001b[K     |████████████████████████████████| 636 kB 12.4 MB/s \n",
            "\u001b[?25hCollecting nilearn==0.8.0\n",
            "  Downloading nilearn-0.8.0-py3-none-any.whl (4.9 MB)\n",
            "\u001b[K     |████████████████████████████████| 4.9 MB 40.4 MB/s \n",
            "\u001b[?25hRequirement already satisfied: joblib>=0.12 in /usr/local/lib/python3.7/dist-packages (from nilearn==0.8.0) (1.0.1)\n",
            "Requirement already satisfied: requests>=2 in /usr/local/lib/python3.7/dist-packages (from nilearn==0.8.0) (2.23.0)\n",
            "Requirement already satisfied: nibabel>=2.5 in /usr/local/lib/python3.7/dist-packages (from nilearn==0.8.0) (3.0.2)\n",
            "Requirement already satisfied: numpy>=1.16 in /usr/local/lib/python3.7/dist-packages (from nilearn==0.8.0) (1.19.5)\n",
            "Requirement already satisfied: pandas>=0.24.0 in /usr/local/lib/python3.7/dist-packages (from nilearn==0.8.0) (1.1.5)\n",
            "Requirement already satisfied: scikit-learn>=0.21 in /usr/local/lib/python3.7/dist-packages (from nilearn==0.8.0) (0.22.2.post1)\n",
            "Requirement already satisfied: scipy>=1.2 in /usr/local/lib/python3.7/dist-packages (from nilearn==0.8.0) (1.4.1)\n",
            "Requirement already satisfied: python-dateutil>=2.7.3 in /usr/local/lib/python3.7/dist-packages (from pandas>=0.24.0->nilearn==0.8.0) (2.8.2)\n",
            "Requirement already satisfied: pytz>=2017.2 in /usr/local/lib/python3.7/dist-packages (from pandas>=0.24.0->nilearn==0.8.0) (2018.9)\n",
            "Requirement already satisfied: six>=1.5 in /usr/local/lib/python3.7/dist-packages (from python-dateutil>=2.7.3->pandas>=0.24.0->nilearn==0.8.0) (1.15.0)\n",
            "Requirement already satisfied: urllib3!=1.25.0,!=1.25.1,<1.26,>=1.21.1 in /usr/local/lib/python3.7/dist-packages (from requests>=2->nilearn==0.8.0) (1.24.3)\n",
            "Requirement already satisfied: certifi>=2017.4.17 in /usr/local/lib/python3.7/dist-packages (from requests>=2->nilearn==0.8.0) (2021.5.30)\n",
            "Requirement already satisfied: idna<3,>=2.5 in /usr/local/lib/python3.7/dist-packages (from requests>=2->nilearn==0.8.0) (2.10)\n",
            "Requirement already satisfied: chardet<4,>=3.0.2 in /usr/local/lib/python3.7/dist-packages (from requests>=2->nilearn==0.8.0) (3.0.4)\n",
            "Installing collected packages: pyyaml, nilearn\n",
            "  Attempting uninstall: pyyaml\n",
            "    Found existing installation: PyYAML 3.13\n",
            "    Uninstalling PyYAML-3.13:\n",
            "      Successfully uninstalled PyYAML-3.13\n",
            "Successfully installed nilearn-0.8.0 pyyaml-5.4.1\n",
            "/content/olf-bulb-segmentation\n"
          ],
          "name": "stdout"
        }
      ]
    },
    {
      "cell_type": "markdown",
      "metadata": {
        "id": "PnSVQHMnWDFD"
      },
      "source": [
        "### 3- Run OB pipeline \n"
      ]
    },
    {
      "cell_type": "code",
      "metadata": {
        "id": "BAzsC--kNcoS",
        "colab": {
          "base_uri": "https://localhost:8080/"
        },
        "outputId": "ac9c5240-7b4b-4dfa-af7d-a760d2a65153"
      },
      "source": [
        "#@title Click to run the pipeline  \n",
        "#The pipeline is set in colab to run in default mode  add additionally flags if necesary\n",
        "# the output directory is set to \"/content/output\" and the subject_id to \"sample\"\n",
        "! python3 ./run_pipeline.py -in $img -out /content/output -sid sample"
      ],
      "execution_count": null,
      "outputs": [
        {
          "output_type": "stream",
          "text": [
            "Given configuration file:  ./SegModels/AttFastSurferCNN/AttFastSurferCNN_weights.yml\n",
            "Given configuration file:  ./LocModels/FastSurferCNN/FastSurferCNN_weights.yml\n",
            "Successfully Created Directory @ /content/output/sample\n",
            "Reading file /content/T2_sample.nii.gz\n",
            "Input:    min: 0.0  max: 1008.9999845065176\n",
            "rescale:  min: 0.0  max: 705.2909891700558  scale: 0.361552896486128\n",
            "Output:   min: 0.0  max: 255.0\n",
            "Cuda available: True, # Available GPUS: 1, Cuda user disabled (--no_cuda flag): False, --> Using device: cuda\n",
            "Successfully Created Directory @ /content/output/sample/mri\n",
            "------------------------------\n",
            "Running localization models\n",
            "--->Testing axial localization model\n",
            "Model weights loaded from /content/olf-bulb-segmentation/LocModels/FastSurferCNN/v1_split_4_FastSurferCNN_axial.pkl\n",
            "Input data shape (121, 191, 191)\n",
            "input data transform to (191, 192, 192, 3)\n",
            "/usr/local/lib/python3.7/dist-packages/torch/nn/functional.py:693: UserWarning: Named tensors and all their associated APIs are an experimental feature and subject to change. Please do not use them for anything important until they are released as stable. (Triggered internally at  /pytorch/c10/core/TensorImpl.h:1156.)\n",
            "  return torch._C._nn.max_pool2d_with_indices(input, kernel_size, stride, padding, dilation, ceil_mode)\n",
            "output data shape (121, 191, 191, 2)\n",
            "Model Done in 7.9508 seconds\n",
            "--->Testing coronal localization model\n",
            "Model weights loaded from /content/olf-bulb-segmentation/LocModels/FastSurferCNN/v4_split_4_FastSurferCNN_coronal.pkl\n",
            "Input data shape (121, 191, 191)\n",
            "input data transform to (191, 192, 192, 3)\n",
            "output data shape (121, 191, 191, 2)\n",
            "Model Done in 7.7042 seconds\n",
            "--->Testing sagittal localization model\n",
            "Model weights loaded from /content/olf-bulb-segmentation/LocModels/FastSurferCNN/v1_split_4_FastSurferCNN_sagittal.pkl\n",
            "Input data shape (121, 191, 191)\n",
            "input data transform to (121, 192, 192, 3)\n",
            "output data shape (121, 191, 191, 2)\n",
            "Model Done in 5.0674 seconds\n",
            "---> Finish localization models in 22.2901 seconds\n",
            "------------------------------\n",
            "Crop image from coordinate  110, 215 , 180\n",
            "------------------------------\n",
            "------------------------------\n",
            "Running segmentation models\n",
            "------------------------------\n",
            "zero coordinate\n",
            "[ 62 167 132   1]\n",
            "--->Testing axial segmentation model\n",
            "Model weights loaded from /content/olf-bulb-segmentation/SegModels/AttFastSurferCNN/v3_split_1_AttFastSurferCNN_axial.pkl\n",
            "Model Done in 5.6222 seconds\n",
            "--->Testing axial segmentation model\n",
            "Model weights loaded from /content/olf-bulb-segmentation/SegModels/AttFastSurferCNN/v1_split_2_AttFastSurferCNN_axial.pkl\n",
            "Model Done in 5.6547 seconds\n",
            "--->Testing axial segmentation model\n",
            "Model weights loaded from /content/olf-bulb-segmentation/SegModels/AttFastSurferCNN/v3_split_3_AttFastSurferCNN_axial.pkl\n",
            "Model Done in 5.6107 seconds\n",
            "--->Testing axial segmentation model\n",
            "Model weights loaded from /content/olf-bulb-segmentation/SegModels/AttFastSurferCNN/v4_split_4_AttFastSurferCNN_axial.pkl\n",
            "Model Done in 5.6370 seconds\n",
            "--->Testing coronal segmentation model\n",
            "Model weights loaded from /content/olf-bulb-segmentation/SegModels/AttFastSurferCNN/v4_split_1_AttFastSurferCNN_coronal.pkl\n",
            "Model Done in 5.6016 seconds\n",
            "--->Testing coronal segmentation model\n",
            "Model weights loaded from /content/olf-bulb-segmentation/SegModels/AttFastSurferCNN/v3_split_2_AttFastSurferCNN_coronal.pkl\n",
            "Model Done in 5.5824 seconds\n",
            "--->Testing coronal segmentation model\n",
            "Model weights loaded from /content/olf-bulb-segmentation/SegModels/AttFastSurferCNN/v4_split_3_AttFastSurferCNN_coronal.pkl\n",
            "Model Done in 5.6532 seconds\n",
            "--->Testing coronal segmentation model\n",
            "Model weights loaded from /content/olf-bulb-segmentation/SegModels/AttFastSurferCNN/v3_split_4_AttFastSurferCNN_coronal.pkl\n",
            "Model Done in 5.5918 seconds\n",
            "--->Testing sagittal segmentation model\n",
            "Model weights loaded from /content/olf-bulb-segmentation/SegModels/AttFastSurferCNN/v3_split_1_AttFastSurferCNN_sagittal.pkl\n",
            "Model Done in 5.5944 seconds\n",
            "--->Testing sagittal segmentation model\n",
            "Model weights loaded from /content/olf-bulb-segmentation/SegModels/AttFastSurferCNN/v3_split_2_AttFastSurferCNN_sagittal.pkl\n",
            "Model Done in 5.6227 seconds\n",
            "--->Testing sagittal segmentation model\n",
            "Model weights loaded from /content/olf-bulb-segmentation/SegModels/AttFastSurferCNN/v2_split_3_AttFastSurferCNN_sagittal.pkl\n",
            "Model Done in 5.6835 seconds\n",
            "--->Testing sagittal segmentation model\n",
            "Model weights loaded from /content/olf-bulb-segmentation/SegModels/AttFastSurferCNN/v4_split_4_AttFastSurferCNN_sagittal.pkl\n",
            "Model Done in 5.6615 seconds\n",
            "---> Finish segmentation models in 68.8085 seconds\n",
            "Successfully Created Directory @ /content/output/sample/stats\n",
            "Successfully Created Directory @ /content/output/sample/QC\n",
            "Clipping input data to the valid range for imshow with RGB data ([0..1] for floats or [0..255] for integers).\n",
            "------------------------------\n",
            "Calculating stats\n",
            "Total computation time :  111.2537 seconds.\n",
            "\n",
            "\n",
            "Thank you for using the automated olfactory bulb segmentation pipeline\n",
            "If you find it useful and use it for a publication, please cite: \n",
            "Estrada, Santiago, et al. \"Automated Olfactory Bulb Segmentation on High Resolutional T2-Weighted MRI.\"\n",
            "NeuroImage (2021): 118464. https://doi.org/10.1016/j.neuroimage.2021.118464\n"
          ],
          "name": "stdout"
        }
      ]
    },
    {
      "cell_type": "markdown",
      "metadata": {
        "id": "lOToKXAyXCYR"
      },
      "source": [
        "### 4- Segmentation Visualization\n"
      ]
    },
    {
      "cell_type": "code",
      "metadata": {
        "id": "s26vzDKBbQ09",
        "colab": {
          "base_uri": "https://localhost:8080/",
          "height": 417
        },
        "outputId": "403691e2-8dc3-485f-c85d-9ce7533bc658"
      },
      "source": [
        "#@title Click to visualize results\n",
        "from IPython.display import Image\n",
        "Image(\"/content/output/sample/QC/overall_screenshot.png\",height=400)"
      ],
      "execution_count": null,
      "outputs": [
        {
          "output_type": "execute_result",
          "data": {
            "image/png": "[encoded data removed]",
            "text/plain": [
              "<IPython.core.display.Image object>"
            ]
          },
          "metadata": {
            "image/png": {
              "height": 400
            }
          },
          "execution_count": 5
        }
      ]
    },
    {
      "cell_type": "markdown",
      "metadata": {
        "id": "ABs5DHaPWmec"
      },
      "source": [
        "### 5- Save Output"
      ]
    },
    {
      "cell_type": "code",
      "metadata": {
        "id": "3pSS92oySsFU",
        "colab": {
          "base_uri": "https://localhost:8080/",
          "height": 260
        },
        "outputId": "e3ffd7d6-3e8b-427a-996e-4dcd81ab6c5e"
      },
      "source": [
        "#@title Click to save output\n",
        "# zipping the output results\n",
        "!zip -r /content/sample.zip /content/output/sample\n",
        "\n",
        "from google.colab import files\n",
        "# initiate the download (toggles selection window when executed)        \n",
        "files.download(\"/content/sample.zip\")"
      ],
      "execution_count": null,
      "outputs": [
        {
          "output_type": "stream",
          "text": [
            "  adding: content/output/sample/ (stored 0%)\n",
            "  adding: content/output/sample/mri/ (stored 0%)\n",
            "  adding: content/output/sample/mri/loc_heatmap.nii.gz (deflated 59%)\n",
            "  adding: content/output/sample/mri/ob_seg.nii.gz (deflated 93%)\n",
            "  adding: content/output/sample/mri/loc_orig.nii.gz (deflated 1%)\n",
            "  adding: content/output/sample/mri/orig.nii.gz (deflated 0%)\n",
            "  adding: content/output/sample/QC/ (stored 0%)\n",
            "  adding: content/output/sample/QC/coronal_screenshot.png (deflated 4%)\n",
            "  adding: content/output/sample/QC/overall_screenshot.png (deflated 2%)\n",
            "  adding: content/output/sample/log.txt (deflated 79%)\n",
            "  adding: content/output/sample/stats/ (stored 0%)\n",
            "  adding: content/output/sample/stats/segmentation_stats.csv (deflated 35%)\n",
            "  adding: content/output/sample/stats/localization_stats.csv (deflated 7%)\n"
          ],
          "name": "stdout"
        },
        {
          "output_type": "display_data",
          "data": {
            "application/javascript": [
              "\n",
              "    async function download(id, filename, size) {\n",
              "      if (!google.colab.kernel.accessAllowed) {\n",
              "        return;\n",
              "      }\n",
              "      const div = document.createElement('div');\n",
              "      const label = document.createElement('label');\n",
              "      label.textContent = `Downloading \"${filename}\": `;\n",
              "      div.appendChild(label);\n",
              "      const progress = document.createElement('progress');\n",
              "      progress.max = size;\n",
              "      div.appendChild(progress);\n",
              "      document.body.appendChild(div);\n",
              "\n",
              "      const buffers = [];\n",
              "      let downloaded = 0;\n",
              "\n",
              "      const channel = await google.colab.kernel.comms.open(id);\n",
              "      // Send a message to notify the kernel that we're ready.\n",
              "      channel.send({})\n",
              "\n",
              "      for await (const message of channel.messages) {\n",
              "        // Send a message to notify the kernel that we're ready.\n",
              "        channel.send({})\n",
              "        if (message.buffers) {\n",
              "          for (const buffer of message.buffers) {\n",
              "            buffers.push(buffer);\n",
              "            downloaded += buffer.byteLength;\n",
              "            progress.value = downloaded;\n",
              "          }\n",
              "        }\n",
              "      }\n",
              "      const blob = new Blob(buffers, {type: 'application/binary'});\n",
              "      const a = document.createElement('a');\n",
              "      a.href = window.URL.createObjectURL(blob);\n",
              "      a.download = filename;\n",
              "      div.appendChild(a);\n",
              "      a.click();\n",
              "      div.remove();\n",
              "    }\n",
              "  "
            ],
            "text/plain": [
              "<IPython.core.display.Javascript object>"
            ]
          },
          "metadata": {}
        },
        {
          "output_type": "display_data",
          "data": {
            "application/javascript": [
              "download(\"download_5e94bd8e-2768-4735-bfc6-dea1b65787fb\", \"sample.zip\", 12188085)"
            ],
            "text/plain": [
              "<IPython.core.display.Javascript object>"
            ]
          },
          "metadata": {}
        }
      ]
    },
    {
      "cell_type": "markdown",
      "metadata": {
        "id": "hKYKDg2hhb0T"
      },
      "source": [
        "### Segmentation is Done! \n",
        "Colab also allows connecting your google drive, For more options on connecting drive, see here: https://colab.research.google.com/notebooks/io.ipynb#scrollTo=u22w3BFiOveA"
      ]
    }
  ]
}