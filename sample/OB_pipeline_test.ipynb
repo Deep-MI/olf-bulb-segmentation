{
  "nbformat": 4,
  "nbformat_minor": 0,
  "metadata": {
    "colab": {
      "name": "OB_pipeline_test.ipynb",
      "provenance": [],
      "authorship_tag": "ABX9TyMavTjIYy3pStZFXyxlBthJ",
      "include_colab_link": true
    },
    "kernelspec": {
      "name": "python3",
      "display_name": "Python 3"
    },
    "language_info": {
      "name": "python"
    },
    "accelerator": "GPU"
  },
  "cells": [
    {
      "cell_type": "markdown",
      "metadata": {
        "id": "view-in-github",
        "colab_type": "text"
      },
      "source": [
        "<a href=\"https://colab.research.google.com/github/Deep-MI/olf-bulb-segmentation/blob/main/OB_pipeline_test.ipynb\" target=\"_parent\"><img src=\"https://colab.research.google.com/assets/colab-badge.svg\" alt=\"Open In Colab\"/></a>"
      ]
    },
    {
      "cell_type": "markdown",
      "metadata": {
        "id": "Nl8sJdId4KTN"
      },
      "source": [
        "### **Quick and Easy - Olfactory Bulb (OB) Segmentation**\n",
        "\n",
        "Google Colab allows to a create virtual machine in your web browser in which you can run the OB pipeline. For more information on how to use colab and neuroimage tools such as *FastSuferCNN* for whole brain segmentation check our Tutorial page :  https://github.com/Deep-MI/FastSurfer/tree/master/Tutorial\n",
        "\n"
      ]
    },
    {
      "cell_type": "markdown",
      "metadata": {
        "id": "ozJDiXN19qD2"
      },
      "source": [
        "### Enabling the GPU\n",
        "\n",
        "First, you'll need to enable GPUs for the notebook:\n",
        "\n",
        "- Navigate to Edit→Notebook Settings\n",
        "- select GPU from the Hardware Accelerator drop-down"
      ]
    },
    {
      "cell_type": "markdown",
      "metadata": {
        "id": "R5xLARuq4old"
      },
      "source": [
        "### 1 - Upload Image \n",
        " - You can use your own T2 or download a T2 sample image from  https://nextcloud.dzne.de/index.php/s/QaYpocJn9HFN7jp \n"
      ]
    },
    {
      "cell_type": "code",
      "metadata": {
        "id": "GbtDqk4k49_5"
      },
      "source": [
        "#@title Click the run button to upload your T2-weighted MRI image\n",
        "from google.colab import files\n",
        "! cd \"/content\"\n",
        "uploaded = files.upload()\n",
        "\n",
        "img = \"/content/\" + list(uploaded.keys())[0]"
      ],
      "execution_count": null,
      "outputs": []
    },
    {
      "cell_type": "code",
      "metadata": {
        "id": "lwZYnLkt6H_R"
      },
      "source": [
        "# Check present files in colab base directory with ls command\n",
        "!ls -l \"/content\""
      ],
      "execution_count": null,
      "outputs": []
    },
    {
      "cell_type": "markdown",
      "metadata": {
        "id": "pUXynDuLAyJA"
      },
      "source": [
        "Note all data upload to colab,  will be automatically deleted once the session ends and is NOT recoverable!. Make sure to save  "
      ]
    },
    {
      "cell_type": "markdown",
      "metadata": {
        "id": "wADOXFOuJf5V"
      },
      "source": [
        "## 2- Clone Repository"
      ]
    },
    {
      "cell_type": "code",
      "metadata": {
        "id": "INHOX5W3Jmg4"
      },
      "source": [
        "#@title Click to clone OB repository\n",
        "# import libraries\n",
        "import os\n",
        "import sys\n",
        "from os.path import exists, join, basename, splitext\n",
        "\n",
        "git_repo_url = 'https://github.com/Deep-MI/olf-bulb-segmentation.git'\n",
        "project_name = splitext(basename(git_repo_url))[0]\n",
        "if not exists(project_name):\n",
        "  # clone and install dependencies\n",
        "  !git clone -q $git_repo_url\n",
        "  sys.path.append(project_name)\n",
        "\n",
        "# Install missign libraries in Colab\n",
        "! pip install pyyaml==5.4.1 nilearn==0.8.0\n",
        "\n",
        "# Go to the pipeline directory\n",
        "%cd /content/olf-bulb-segmentation/"
      ],
      "execution_count": null,
      "outputs": []
    },
    {
      "cell_type": "markdown",
      "metadata": {
        "id": "PnSVQHMnWDFD"
      },
      "source": [
        "### 3- Run OB pipeline \n"
      ]
    },
    {
      "cell_type": "code",
      "metadata": {
        "id": "BAzsC--kNcoS"
      },
      "source": [
        "#@title Click to run the pipeline  \n",
        "#The pipeline is set in colab to run in default mode  add additionally flags if necesary\n",
        "! python3 ./run_pipeline.py -in $img -out /content/output -sid sample"
      ],
      "execution_count": null,
      "outputs": []
    },
    {
      "cell_type": "markdown",
      "metadata": {
        "id": "lOToKXAyXCYR"
      },
      "source": [
        "### 4- Segmentation Visualization\n"
      ]
    },
    {
      "cell_type": "code",
      "metadata": {
        "id": "s26vzDKBbQ09"
      },
      "source": [
        "#@title Click to visualize results\n",
        "from IPython.display import Image\n",
        "Image(\"/content/output/sample/QC/overall_screenshot.png\",height=400)"
      ],
      "execution_count": null,
      "outputs": []
    },
    {
      "cell_type": "markdown",
      "metadata": {
        "id": "ABs5DHaPWmec"
      },
      "source": [
        "### 5- Save Output"
      ]
    },
    {
      "cell_type": "code",
      "metadata": {
        "id": "3pSS92oySsFU"
      },
      "source": [
        "#@title Click to save output\n",
        "!zip -r /content/sample.zip /content/output/sample\n",
        "from google.colab import files\n",
        "files.download(\"/content/sample.zip\")"
      ],
      "execution_count": null,
      "outputs": []
    },
    {
      "cell_type": "markdown",
      "metadata": {
        "id": "hKYKDg2hhb0T"
      },
      "source": [
        "### Segmentation is Done! \n",
        "Colab also allows connecting your google drive, For more options on connecting drive, see here: https://colab.research.google.com/notebooks/io.ipynb#scrollTo=u22w3BFiOveA"
      ]
    }
  ]
}