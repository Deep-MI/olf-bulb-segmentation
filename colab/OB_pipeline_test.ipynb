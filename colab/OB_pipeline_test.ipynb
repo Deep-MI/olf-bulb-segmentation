{
 "cells": [
  {
   "cell_type": "markdown",
   "metadata": {
    "id": "view-in-github",
    "colab_type": "text"
   },
   "source": [
    "<a href=\"https://colab.research.google.com/github/Deep-MI/olf-bulb-segmentation/blob/main/OB_pipeline_test.ipynb\" target=\"_parent\"><img src=\"https://colab.research.google.com/assets/colab-badge.svg\" alt=\"Open In Colab\"/></a>"
   ]
  },
  {
   "cell_type": "markdown",
   "metadata": {
    "id": "Nl8sJdId4KTN"
   },
   "source": [
    "### **Quick and Easy - Olfactory Bulb (OB) Segmentation**\n",
    "\n",
    "Google Colab allows to a create virtual machine in your web browser in which you can run the OB pipeline. For more information on how to use colab and neuroimage tools such as *FastSuferCNN* for whole brain segmentation check our Tutorial page :  https://github.com/Deep-MI/FastSurfer/tree/master/Tutorial\n",
    "\n"
   ]
  },
  {
   "cell_type": "markdown",
   "metadata": {
    "id": "ozJDiXN19qD2"
   },
   "source": [
    "### Enabling the GPU\n",
    "\n",
    "First, you'll need to enable GPUs for the notebook:\n",
    "\n",
    "- Navigate to Edit→Notebook Settings\n",
    "- select GPU from the Hardware Accelerator drop-down"
   ]
  },
  {
   "cell_type": "markdown",
   "metadata": {
    "id": "R5xLARuq4old"
   },
   "source": [
    "### 1 - Upload Image \n",
    " - You can use your own T2 or download a T2 sample image from  https://nextcloud.dzne.de/index.php/s/QaYpocJn9HFN7jp \n"
   ]
  },
  {
   "cell_type": "code",
   "execution_count": null,
   "metadata": {
    "id": "GbtDqk4k49_5"
   },
   "outputs": [],
   "source": [
    "#@title Click the run button to upload your T2-weighted MRI image\n",
    "from google.colab import files\n",
    "! cd \"/content\"\\\n",
    "    \n",
    "# initiate the upload (toggles selection window when executed)    \n",
    "uploaded = files.upload()\n",
    "\n",
    "#store the image location as variable for future used\n",
    "img = \"/content/\" + list(uploaded.keys())[0]"
   ]
  },
  {
   "cell_type": "code",
   "execution_count": null,
   "metadata": {
    "id": "lwZYnLkt6H_R"
   },
   "outputs": [],
   "source": [
    "# Check present files in colab base directory with ls command\n",
    "!ls -l \"/content\""
   ]
  },
  {
   "cell_type": "markdown",
   "metadata": {
    "id": "pUXynDuLAyJA"
   },
   "source": [
    "Note all data upload to colab,  will be automatically deleted once the session ends and is NOT recoverable!. Make sure to save  "
   ]
  },
  {
   "cell_type": "markdown",
   "metadata": {
    "id": "wADOXFOuJf5V"
   },
   "source": [
    "## 2- Clone Repository"
   ]
  },
  {
   "cell_type": "code",
   "execution_count": null,
   "metadata": {
    "id": "INHOX5W3Jmg4"
   },
   "outputs": [],
   "source": [
    "#@title Click to clone OB repository\n",
    "# import libraries\n",
    "import os\n",
    "import sys\n",
    "from os.path import exists, join, basename, splitext\n",
    "\n",
    "#clone repository\n",
    "git_repo_url = 'https://github.com/Deep-MI/olf-bulb-segmentation.git'\n",
    "project_name = splitext(basename(git_repo_url))[0]\n",
    "if not exists(project_name):\n",
    "  # clone and install dependencies\n",
    "  !git clone -q $git_repo_url\n",
    "  sys.path.append(project_name)\n",
    "\n",
    "# Install missign libraries in Colab\n",
    "! pip install pyyaml==5.4.1 nilearn==0.8.0\n",
    "\n",
    "# Go to the pipeline directory\n",
    "%cd /content/olf-bulb-segmentation/"
   ]
  },
  {
   "cell_type": "markdown",
   "metadata": {
    "id": "PnSVQHMnWDFD"
   },
   "source": [
    "### 3- Run OB pipeline \n"
   ]
  },
  {
   "cell_type": "code",
   "execution_count": null,
   "metadata": {
    "id": "BAzsC--kNcoS"
   },
   "outputs": [],
   "source": [
    "#@title Click to run the pipeline  \n",
    "#The pipeline is set in colab to run in default mode  add additionally flags if necesary\n",
    "# the output directory is set to \"/content/output\" and the subject_id to \"sample\"\n",
    "! python3 ./run_pipeline.py -in $img -out /content/output -sid sample"
   ]
  },
  {
   "cell_type": "markdown",
   "metadata": {
    "id": "lOToKXAyXCYR"
   },
   "source": [
    "### 4- Segmentation Visualization\n"
   ]
  },
  {
   "cell_type": "code",
   "execution_count": null,
   "metadata": {
    "id": "s26vzDKBbQ09"
   },
   "outputs": [],
   "source": [
    "#@title Click to visualize results\n",
    "from IPython.display import Image\n",
    "Image(\"/content/output/sample/QC/overall_screenshot.png\",height=400)"
   ]
  },
  {
   "cell_type": "markdown",
   "metadata": {
    "id": "ABs5DHaPWmec"
   },
   "source": [
    "### 5- Save Output"
   ]
  },
  {
   "cell_type": "code",
   "execution_count": null,
   "metadata": {
    "id": "3pSS92oySsFU"
   },
   "outputs": [],
   "source": [
    "#@title Click to save output\n",
    "# zipping the output results\n",
    "!zip -r /content/sample.zip /content/output/sample\n",
    "from google.colab import files\n",
    "# initiate the download (toggles selection window when executed)        \n",
    "files.download(\"/content/sample.zip\")"
   ]
  },
  {
   "cell_type": "markdown",
   "metadata": {
    "id": "hKYKDg2hhb0T"
   },
   "source": [
    "### Segmentation is Done! \n",
    "Colab also allows connecting your google drive, For more options on connecting drive, see here: https://colab.research.google.com/notebooks/io.ipynb#scrollTo=u22w3BFiOveA"
   ]
  }
 ],
 "metadata": {
  "colab": {
   "name": "OB_pipeline_test.ipynb",
   "provenance": [],
   "authorship_tag": "ABX9TyMavTjIYy3pStZFXyxlBthJ",
   "include_colab_link": true
  },
  "kernelspec": {
   "name": "python3",
   "display_name": "Python 3"
  },
  "language_info": {
   "name": "python"
  },
  "accelerator": "GPU"
 },
 "nbformat": 4,
 "nbformat_minor": 0
}
